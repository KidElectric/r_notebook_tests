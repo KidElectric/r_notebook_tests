{
 "cells": [
  {
   "cell_type": "markdown",
   "id": "d02d1aa7-0e45-4ed5-ba7c-20e23d49e4a5",
   "metadata": {},
   "source": [
    "# Load some libraries"
   ]
  },
  {
   "cell_type": "code",
   "execution_count": 1,
   "id": "9fca5af0-e473-4f55-b61d-905e13fd720d",
   "metadata": {},
   "outputs": [
    {
     "name": "stdout",
     "output_type": "stream",
     "text": [
      "[1] \"Loading libraries\"\n",
      "[1] \"Library load finished\"\n",
      "Time difference of 1.061753 secs\n"
     ]
    }
   ],
   "source": [
    "print('Loading libraries')\n",
    "start_time <- Sys.time()\n",
    "suppressPackageStartupMessages({\n",
    "    library(data.table)\n",
    "    library(ggplot2)\n",
    "    library(ggpubr)\n",
    "    library(patchwork)\n",
    "    library(plyr)\n",
    "    library(dplyr)\n",
    "    library(future)\n",
    "    library(pheatmap)\n",
    "    library(RColorBrewer)\n",
    "    library(png)\n",
    "    library(stringr)\n",
    "    library(rstatix)\n",
    "    library(tidyr)\n",
    "    library(gtools)\n",
    "    }\n",
    ")\n",
    "print('Library load finished')\n",
    "print(Sys.time()-start_time)"
   ]
  }
 ],
 "metadata": {
  "kernelspec": {
   "display_name": "R 4 with seurat",
   "language": "R",
   "name": "r_seurat"
  },
  "language_info": {
   "codemirror_mode": "r",
   "file_extension": ".r",
   "mimetype": "text/x-r-source",
   "name": "R",
   "pygments_lexer": "r",
   "version": "4.1.3"
  }
 },
 "nbformat": 4,
 "nbformat_minor": 5
}
